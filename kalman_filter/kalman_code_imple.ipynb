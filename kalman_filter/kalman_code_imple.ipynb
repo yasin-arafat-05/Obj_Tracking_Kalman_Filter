{
 "cells": [
  {
   "cell_type": "markdown",
   "metadata": {},
   "source": [
    "<br>\n",
    "\n",
    "# `#01: Kalman filter implementation:`\n",
    "\n",
    "<br>"
   ]
  },
  {
   "cell_type": "code",
   "execution_count": 1,
   "metadata": {},
   "outputs": [],
   "source": [
    "\n",
    "import numpy as np \n",
    "import cv2 as cv "
   ]
  },
  {
   "cell_type": "code",
   "execution_count": 6,
   "metadata": {},
   "outputs": [
    {
     "name": "stdout",
     "output_type": "stream",
     "text": [
      "< cv2.KalmanFilter 0x793b8476f270>\n",
      "Frame 1:\n",
      "Predicted Position: [0. 0.]\n",
      "Measured Position: [100. 200.]\n",
      "Updated Position: [ 5.6603775 11.320755 ]\n",
      "--------------------------------------------------\n",
      "Frame 2:\n",
      "Predicted Position: [ 5.6603775 11.320755 ]\n",
      "Measured Position: [105. 205.]\n",
      "Updated Position: [20.570879 40.391273]\n",
      "--------------------------------------------------\n",
      "Frame 3:\n",
      "Predicted Position: [25.636627 50.267796]\n",
      "Measured Position: [110. 210.]\n",
      "Updated Position: [50.964382 98.222946]\n",
      "--------------------------------------------------\n",
      "Frame 4:\n",
      "Predicted Position: [ 65.94425 126.8707 ]\n",
      "Measured Position: [116. 215.]\n",
      "Updated Position: [ 87.43688 164.71112]\n",
      "--------------------------------------------------\n",
      "Frame 5:\n",
      "Predicted Position: [110.26367 207.17435]\n",
      "Measured Position: [120. 220.]\n",
      "Updated Position: [115.0753 213.5127]\n",
      "--------------------------------------------------\n"
     ]
    }
   ],
   "source": [
    "\n",
    "# State variable vector: (x,y,v_x,v_y)\n",
    "kf = cv.KalmanFilter(4,2)\n",
    "print(kf)\n",
    "\n",
    "# Set Transition Matrix:\n",
    "kf.transitionMatrix = np.array([[1, 0, 1, 0],\n",
    "                                 [0, 1, 0, 1],\n",
    "                                 [0, 0, 1, 0],\n",
    "                                 [0, 0, 0, 1]], dtype=np.float32)\n",
    "\n",
    "# Set Measurement Matrix:\n",
    "kf.measurementMatrix = np.array([[1, 0, 0, 0],\n",
    "                                [0, 1, 0, 0]],dtype=np.float32)\n",
    "\n",
    "# Process Error: \n",
    "kf.processNoiseCov = np.eye(4, dtype=np.float32) * 0.03\n",
    "\n",
    "# Noise Error:\n",
    "kf.measurementNoiseCov = kf.measurementNoiseCov = np.eye(2, dtype=np.float32) * 0.5\n",
    "\n",
    "\n",
    "#<------------------- example -------------------------------------> \n",
    "\n",
    "# initial position:\n",
    "kf.statePost = np.array([[0], [0], [0], [0]], np.float32)\n",
    "\n",
    "# drone GPS data (<--------------> 5 frame <------------------>)\n",
    "gps_data = [(100, 200), (105, 205), (110, 210), (116, 215), (120, 220)]\n",
    "\n",
    "for i, measurement in enumerate(gps_data):\n",
    "    \n",
    "    # (Prediction):\n",
    "    predicted = kf.predict()\n",
    "\n",
    "    # (Correction):\n",
    "    measurement = np.array([[measurement[0]], [measurement[1]]], np.float32)\n",
    "    updated = kf.correct(measurement)\n",
    "\n",
    "    print(f\"Frame {i+1}:\")\n",
    "    print(f\"Predicted Position: {predicted[:2].flatten()}\")\n",
    "    print(f\"Measured Position: {measurement.flatten()}\")\n",
    "    print(f\"Updated Position: {updated[:2].flatten()}\")\n",
    "    print(\"-\" * 50)\n",
    " "
   ]
  },
  {
   "cell_type": "markdown",
   "metadata": {},
   "source": [
    "<br>\n",
    "\n",
    "---\n",
    "\n",
    "<br>\n",
    "\n",
    "`By using neural network we can get more accurate value.`\n",
    "\n",
    "<br>\n",
    "\n",
    "---\n",
    "\n",
    "<br>"
   ]
  }
 ],
 "metadata": {
  "kernelspec": {
   "display_name": "venv",
   "language": "python",
   "name": "python3"
  },
  "language_info": {
   "codemirror_mode": {
    "name": "ipython",
    "version": 3
   },
   "file_extension": ".py",
   "mimetype": "text/x-python",
   "name": "python",
   "nbconvert_exporter": "python",
   "pygments_lexer": "ipython3",
   "version": "3.13.1"
  }
 },
 "nbformat": 4,
 "nbformat_minor": 2
}
